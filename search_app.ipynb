{
 "cells": [
  {
   "cell_type": "code",
   "execution_count": null,
   "metadata": {},
   "outputs": [],
   "source": [
    "## Tweet Table"
   ]
  },
  {
   "cell_type": "code",
   "execution_count": 4,
   "metadata": {},
   "outputs": [],
   "source": [
    "import pymongo\n",
    "from pymongo import MongoClient\n",
    "from pprint import pprint\n",
    "import pandas as pd\n",
    "import json"
   ]
  },
  {
   "cell_type": "code",
   "execution_count": 5,
   "metadata": {},
   "outputs": [],
   "source": [
    "#function to cheack whether \n",
    "def check_var(data, x):\n",
    "    try:\n",
    "        data[x]\n",
    "        return True\n",
    "    except:\n",
    "        return False"
   ]
  },
  {
   "cell_type": "code",
   "execution_count": 6,
   "metadata": {},
   "outputs": [],
   "source": [
    "#making mongoDB database and collection\n",
    "client = MongoClient(\"localhost\", 27017)\n",
    "db = client['mydatabase']\n",
    "tweet = db[\"tweet\"]"
   ]
  },
  {
   "cell_type": "code",
   "execution_count": 7,
   "metadata": {},
   "outputs": [],
   "source": [
    "#Import the necessary methods from tweepy library\n",
    "from tweepy.streaming import StreamListener\n",
    "from tweepy import OAuthHandler\n",
    "from tweepy import Stream"
   ]
  },
  {
   "cell_type": "code",
   "execution_count": 9,
   "metadata": {
    "scrolled": true
   },
   "outputs": [],
   "source": [
    "file = '/Users/huiwang/Downloads/twitter-out-corona'\n",
    "\n",
    "tweet.create_index([ ('id', 1) ])\n",
    "\n",
    "#id, user_id, created_at, text, retweet_count, favorite_count, reply_count, hashtags\n",
    "\n",
    "import json\n",
    "with open(file, 'r', encoding = 'utf8') as f1 :\n",
    "    for line in f1 :\n",
    "        try :\n",
    "            data = json.loads(line)\n",
    "        except :\n",
    "            continue\n",
    "        \n",
    "        hashtag = [] #to collect list of hashtags\n",
    "\n",
    "        #case 1: check whether it is a retweet data or not\n",
    "        if (check_var(data, 'retweeted_status')) :\n",
    "            \n",
    "            Created_at = pd.to_datetime(data['retweeted_status']['created_at']).strftime('%B %d, %Y, %r')\n",
    "            UserID = data['retweeted_status']['user']['id']\n",
    "            ID = data['retweeted_status']['id']\n",
    "            retweet_count = data['retweeted_status']['retweet_count']\n",
    "            favorite_count = data['retweeted_status']['favorite_count']\n",
    "            reply_count = data['retweeted_status']['reply_count']\n",
    "            \n",
    "            #check whether there is extension version of that tweet or not        \n",
    "            if (check_var(data['retweeted_status'], 'extended_tweet')) :\n",
    "                Text = data['retweeted_status']['extended_tweet']['full_text']\n",
    "                for t in data['retweeted_status']['extended_tweet']['entities']['hashtags'] :\n",
    "                    hashtag.append(t['text'])                \n",
    "            else :\n",
    "                Text = data['retweeted_status']['text']\n",
    "                for t in data['retweeted_status']['entities']['hashtags'] :\n",
    "                    hashtag.append(t['text'])\n",
    "                    \n",
    "            #check whether it is retweet of quoted tweet or not\n",
    "            if (check_var(data['retweeted_status'], 'quoted_status')) :\n",
    "                \n",
    "                #check whether there is extension version of the original tweet or not \n",
    "                if (check_var(data['retweeted_status']['quoted_status'], 'extended_tweet')) :\n",
    "                    Text = Text + ' || ' + data['retweeted_status']['quoted_status']['extended_tweet']['full_text']\n",
    "                    for t in data['retweeted_status']['quoted_status']['extended_tweet']['entities']['hashtags'] :\n",
    "                        hashtag.append(t['text'])                \n",
    "                else :\n",
    "                    Text = Text + ' || ' + data['retweeted_status']['quoted_status']['text']\n",
    "                    for t in data['retweeted_status']['quoted_status']['entities']['hashtags'] :\n",
    "                        hashtag.append(t['text'])               \n",
    "        \n",
    "        #case 2: check whether it is a quote tweet data or not\n",
    "        elif (check_var(data, 'quoted_status')) :\n",
    "            Created_at = pd.to_datetime(data['created_at']).strftime('%B %d, %Y, %r')\n",
    "            UserID = data['user']['id']\n",
    "            ID = data['id']\n",
    "            retweet_count = data['retweet_count']\n",
    "            favorite_count = data['favorite_count']\n",
    "            reply_count = data['reply_count']\n",
    "            \n",
    "            #check whether there is extension version of that quote tweet or not \n",
    "            if(check_var(data, 'extended_tweet')) :\n",
    "                Text = data['extended_tweet']['full_text'] + ' || ' \n",
    "            else:\n",
    "                Text = data['text'] + ' || '\n",
    "            \n",
    "            for t in data['entities']['hashtags'] :\n",
    "                hashtag.append(t['text'])\n",
    "            \n",
    "            #check whether there is extension version of the originl tweet or not \n",
    "            if (check_var(data['quoted_status'], 'extended_tweet')) :\n",
    "                Text = Text + data['quoted_status']['extended_tweet']['full_text']\n",
    "                for t in data['quoted_status']['extended_tweet']['entities']['hashtags'] :\n",
    "                    hashtag.append(t['text'])                \n",
    "            else:\n",
    "                Text = Text + data['quoted_status']['text']\n",
    "                for t in data['quoted_status']['entities']['hashtags'] :\n",
    "                    hashtag.append(t['text'])\n",
    "        \n",
    "        #if it does not belong to case 1 and case 2, it is an ordinary tweet data\n",
    "        else :\n",
    "            Created_at = pd.to_datetime(data['created_at']).strftime('%B %d, %Y, %r')\n",
    "            UserID = data['user']['id']\n",
    "            ID = data['id']\n",
    "            retweet_count = data['retweet_count']\n",
    "            favorite_count = data['favorite_count']\n",
    "            reply_count = data['reply_count']\n",
    "            \n",
    "            #check whether there is extension version of that tweet or not  \n",
    "            if(check_var(data, 'extended_tweet')) :\n",
    "                Text = data['extended_tweet']['full_text']\n",
    "            else :\n",
    "                Text = data['text']\n",
    "                \n",
    "            for t in data['entities']['hashtags'] :\n",
    "                hashtag.append(t['text'])\n",
    "        \n",
    "        tw = {'id' : ID,\n",
    "              'user_id' : UserID,\n",
    "              'created_at' : Created_at,\n",
    "              'text' : Text,\n",
    "              'retweet_count' : retweet_count,\n",
    "              'favorite_count' : favorite_count,\n",
    "              'reply_count' : reply_count,\n",
    "              'hashtags': hashtag\n",
    "             }\n",
    "        \n",
    "        #if the data is already in our database, we update it \n",
    "        if (tweet.count_documents({'id' : tw['id']}) > 0) :\n",
    "            db.tweet.update_one({'id' : tw['id']},\n",
    "                                {'$set' : {'retweet_count' : tw['retweet_count'], 'favorite_count' : tw['favorite_count'], 'reply_count' : tw['reply_count']}})\n",
    "        #if it is not, we insert it    \n",
    "        else :\n",
    "            tweet.insert_one(tw)"
   ]
  },
  {
   "cell_type": "code",
   "execution_count": 12,
   "metadata": {},
   "outputs": [
    {
     "ename": "AttributeError",
     "evalue": "'str' object has no attribute 'head'",
     "output_type": "error",
     "traceback": [
      "\u001b[0;31m---------------------------------------------------------------------------\u001b[0m",
      "\u001b[0;31mAttributeError\u001b[0m                            Traceback (most recent call last)",
      "\u001b[0;32m<ipython-input-12-58d0f2af31dc>\u001b[0m in \u001b[0;36m<module>\u001b[0;34m\u001b[0m\n\u001b[0;32m----> 1\u001b[0;31m \u001b[0mfile\u001b[0m\u001b[0;34m.\u001b[0m\u001b[0mhead\u001b[0m\u001b[0;34m(\u001b[0m\u001b[0;36m10\u001b[0m\u001b[0;34m)\u001b[0m\u001b[0;34m\u001b[0m\u001b[0;34m\u001b[0m\u001b[0m\n\u001b[0m",
      "\u001b[0;31mAttributeError\u001b[0m: 'str' object has no attribute 'head'"
     ]
    }
   ],
   "source": []
  },
  {
   "cell_type": "code",
   "execution_count": null,
   "metadata": {},
   "outputs": [],
   "source": []
  },
  {
   "cell_type": "code",
   "execution_count": null,
   "metadata": {},
   "outputs": [],
   "source": [
    "## User Table"
   ]
  },
  {
   "cell_type": "code",
   "execution_count": 14,
   "metadata": {},
   "outputs": [
    {
     "ename": "ModuleNotFoundError",
     "evalue": "No module named 'psycopg2'",
     "output_type": "error",
     "traceback": [
      "\u001b[0;31m---------------------------------------------------------------------------\u001b[0m",
      "\u001b[0;31mModuleNotFoundError\u001b[0m                       Traceback (most recent call last)",
      "\u001b[0;32m<ipython-input-14-b538b80308bc>\u001b[0m in \u001b[0;36m<module>\u001b[0;34m\u001b[0m\n\u001b[1;32m      1\u001b[0m \u001b[0;32mimport\u001b[0m \u001b[0mpandas\u001b[0m \u001b[0;32mas\u001b[0m \u001b[0mpd\u001b[0m\u001b[0;34m\u001b[0m\u001b[0;34m\u001b[0m\u001b[0m\n\u001b[0;32m----> 2\u001b[0;31m \u001b[0;32mimport\u001b[0m \u001b[0mpsycopg2\u001b[0m\u001b[0;34m\u001b[0m\u001b[0;34m\u001b[0m\u001b[0m\n\u001b[0m\u001b[1;32m      3\u001b[0m \u001b[0;32mimport\u001b[0m \u001b[0mjson\u001b[0m\u001b[0;34m\u001b[0m\u001b[0;34m\u001b[0m\u001b[0m\n",
      "\u001b[0;31mModuleNotFoundError\u001b[0m: No module named 'psycopg2'"
     ]
    }
   ],
   "source": [
    "import pandas as pd\n",
    "import psycopg2\n",
    "import json"
   ]
  },
  {
   "cell_type": "code",
   "execution_count": null,
   "metadata": {},
   "outputs": [],
   "source": [
    "##Creating the database\n",
    "conn = psycopg2.connect(\"dbname=postgres port=5432 user=postgres password=password\")\n",
    "conn.set_session(autocommit = True)\n",
    "cur = conn.cursor()\n",
    "cur.execute(\"CREATE DATABASE twitter_users\" )\n",
    "conn.commit()\n",
    "cur.close()\n",
    "conn.close()"
   ]
  },
  {
   "cell_type": "code",
   "execution_count": null,
   "metadata": {},
   "outputs": [],
   "source": [
    "#Creating the table\n",
    "conn = psycopg2.connect(\"dbname=twitter_users port=5432 user=postgres password=password\")\n",
    "cur = conn.cursor()\n",
    "cur.execute(\"CREATE TABLE IF NOT EXISTS users_data( user_id varchar(50) PRIMARY KEY, name varchar(255), user_name varchar(255), verified_status boolean,followers_count integer,friends_count integer,statuses_count integer,user_location varchar(500),favourites_count integer);\" )\n",
    "conn.commit()\n",
    "cur.close()\n",
    "conn.close()"
   ]
  },
  {
   "cell_type": "code",
   "execution_count": null,
   "metadata": {},
   "outputs": [],
   "source": [
    "def check_var(data,x):\n",
    "    try:\n",
    "        data[x]\n",
    "        return True\n",
    "    except:\n",
    "        return False"
   ]
  },
  {
   "cell_type": "code",
   "execution_count": null,
   "metadata": {},
   "outputs": [],
   "source": [
    "#This function takes the the variable inputs and stores it into a PostgreSQL database\n",
    "def store_data(user_id, name, user_name, verified_status, followers_count, friends_count,statuses_count,user_location,favourites_count):\n",
    "    conn = psycopg2.connect(\"dbname=twitter_users port=5432 user=postgres password=password\")\n",
    "    cur = conn.cursor()\n",
    "    insert_query = \"INSERT INTO users_data (user_id, name, user_name, verified_status, followers_count, friends_count,statuses_count,user_location,favourites_count) VALUES (%s, %s, %s, %s,%s,%s,%s,%s,%s) ON CONFLICT (user_id) DO UPDATE SET verified_status=EXCLUDED.verified_status, followers_count=EXCLUDED.followers_count, friends_count= EXCLUDED.friends_count, statuses_count=EXCLUDED.statuses_count, user_location=EXCLUDED.user_location, favourites_count=EXCLUDED.favourites_count\"\n",
    "    cur.execute(insert_query, (user_id, name, user_name, verified_status, followers_count, friends_count,statuses_count,user_location,favourites_count))\n",
    "    conn.commit()\n",
    "    cur.close()\n",
    "    conn.close()\n",
    "    \n",
    "    \n",
    "# Decoding the JSON file\n",
    "file = \"/Users/varsharajasekar/Downloads/corona-out-2\"\n",
    "with open(file, \"r\",encoding=\"utf8\") as f1:\n",
    "    for line in f1:\n",
    "        \n",
    "        try:\n",
    "            data = json.loads(line)\n",
    "        except:\n",
    "            continue\n",
    "        \n",
    "        \n",
    "        if (check_var(data,'retweeted_status')):\n",
    "            \n",
    "            user_id = data['retweeted_status']['user']['id_str']\n",
    "            name = data['retweeted_status']['user']['name']\n",
    "            user_name = data['retweeted_status']['user']['screen_name']\n",
    "            verified_status = data['retweeted_status']['user']['verified']\n",
    "            followers_count = data['retweeted_status']['user']['followers_count']\n",
    "            friends_count = data['retweeted_status']['user']['friends_count']\n",
    "            statuses_count = data['retweeted_status']['user']['statuses_count']\n",
    "            user_location = data['retweeted_status']['user']['location']\n",
    "            favourites_count= data['retweeted_status']['user']['favourites_count']\n",
    "            \n",
    "           \n",
    "        else :\n",
    "            user_id = data['user']['id_str']\n",
    "            name = data['user']['name']\n",
    "            user_name = data['user']['screen_name']\n",
    "            verified_status = data['user']['verified']\n",
    "            followers_count = data['user']['followers_count']\n",
    "            friends_count = data['user']['friends_count']\n",
    "            statuses_count = data['user']['statuses_count']\n",
    "            user_location = data['user']['location']\n",
    "            favourites_count= data['user']['favourites_count']\n",
    "            \n",
    "               \n",
    "        #insert the data into the PostgreSQL database\n",
    "        store_data(user_id, name, user_name, verified_status, followers_count, friends_count,statuses_count,user_location,favourites_count)"
   ]
  },
  {
   "cell_type": "code",
   "execution_count": null,
   "metadata": {},
   "outputs": [],
   "source": [
    "conn = psycopg2.connect(\"dbname=twitter_users port=5432 user=postgres password=password\")\n",
    "cur = conn.cursor()\n",
    "\n",
    "\n",
    "# A function that takes in a PostgreSQL query and outputs a pandas database \n",
    "def create_pandas_table(sql_query, database = conn):\n",
    "    table = pd.read_sql_query(sql_query, database)\n",
    "    return table"
   ]
  },
  {
   "cell_type": "code",
   "execution_count": null,
   "metadata": {},
   "outputs": [],
   "source": [
    "create_pandas_table(\"SELECT * FROM users_data \")"
   ]
  },
  {
   "cell_type": "code",
   "execution_count": null,
   "metadata": {},
   "outputs": [],
   "source": []
  },
  {
   "cell_type": "code",
   "execution_count": null,
   "metadata": {},
   "outputs": [],
   "source": []
  },
  {
   "cell_type": "code",
   "execution_count": null,
   "metadata": {},
   "outputs": [],
   "source": []
  },
  {
   "cell_type": "code",
   "execution_count": null,
   "metadata": {},
   "outputs": [],
   "source": []
  }
 ],
 "metadata": {
  "kernelspec": {
   "display_name": "Python 3",
   "language": "python",
   "name": "python3"
  },
  "language_info": {
   "codemirror_mode": {
    "name": "ipython",
    "version": 3
   },
   "file_extension": ".py",
   "mimetype": "text/x-python",
   "name": "python",
   "nbconvert_exporter": "python",
   "pygments_lexer": "ipython3",
   "version": "3.7.4"
  }
 },
 "nbformat": 4,
 "nbformat_minor": 2
}
