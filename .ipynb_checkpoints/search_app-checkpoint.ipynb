{
 "cells": [
  {
   "cell_type": "markdown",
   "metadata": {},
   "source": [
    "# I. Tweet Data Cleaning\n",
    "\n"
   ]
  },
  {
   "cell_type": "code",
   "execution_count": 11,
   "metadata": {},
   "outputs": [],
   "source": [
    "## Tweet Table"
   ]
  },
  {
   "cell_type": "code",
   "execution_count": 12,
   "metadata": {},
   "outputs": [],
   "source": [
    "import pymongo\n",
    "from pymongo import MongoClient\n",
    "from pprint import pprint\n",
    "import pandas as pd\n",
    "import json\n",
    "import time"
   ]
  },
  {
   "cell_type": "code",
   "execution_count": 13,
   "metadata": {},
   "outputs": [],
   "source": [
    "#function to cheack whether \n",
    "def check_var(data, x):\n",
    "    try:\n",
    "        data[x]\n",
    "        return True\n",
    "    except:\n",
    "        return False"
   ]
  },
  {
   "cell_type": "code",
   "execution_count": 14,
   "metadata": {},
   "outputs": [],
   "source": [
    "#making mongoDB database and collection\n",
    "client = MongoClient('localhost', 27017)\n",
    "db = client['mydatabase']\n",
    "db.tweet.drop()\n",
    "tweet = db['tweet']"
   ]
  },
  {
   "cell_type": "code",
   "execution_count": 15,
   "metadata": {},
   "outputs": [],
   "source": [
    "#Import the necessary methods from tweepy library\n",
    "from tweepy.streaming import StreamListener\n",
    "from tweepy import OAuthHandler\n",
    "from tweepy import Stream"
   ]
  },
  {
   "cell_type": "code",
   "execution_count": 16,
   "metadata": {},
   "outputs": [],
   "source": [
    "#yelin directory '/Users/yelin/Downloads/corona-out-2/corona-out-2'\n",
    "#Mo 'C:/Users/maxmo/OneDrive/Desktop/Rutgers/Spring2020/Data Management/corona-out-2'\n",
    "file = 'C:/Users/maxmo/OneDrive/Desktop/Rutgers/Spring2020/Data Management/corona-out-2'\n"
   ]
  },
  {
   "cell_type": "code",
   "execution_count": 17,
   "metadata": {
    "scrolled": true
   },
   "outputs": [
    {
     "name": "stdout",
     "output_type": "stream",
     "text": [
      "Wall time: 1min 20s\n"
     ]
    },
    {
     "data": {
      "text/plain": [
       "'id_1'"
      ]
     },
     "execution_count": 17,
     "metadata": {},
     "output_type": "execute_result"
    }
   ],
   "source": [
    "%%time\n",
    "\n",
    "#id, user_id, created_at, text, retweet_count, favorite_count, reply_count, hashtags\n",
    "import json\n",
    "with open(file, 'r', encoding = 'utf8') as f1 :\n",
    "    for line in f1 :\n",
    "        try :\n",
    "            data = json.loads(line)\n",
    "        except :\n",
    "            continue\n",
    "        \n",
    "        hashtag = [] #to collect list of hashtags\n",
    "        \n",
    "        if (data['lang'] == 'en'):\n",
    "            iseng = True\n",
    "        else:\n",
    "            iseng = False\n",
    "        \n",
    "        #case 1: check whether it is a retweet data or not\n",
    "        if (check_var(data, 'retweeted_status')) :\n",
    "            \n",
    "            Created_at = pd.to_datetime(data['retweeted_status']['created_at']).strftime('%B %d, %Y, %r')\n",
    "            UserID = data['retweeted_status']['user']['id']\n",
    "            ID = data['retweeted_status']['id']\n",
    "            retweet_count = data['retweeted_status']['retweet_count']\n",
    "            favorite_count = data['retweeted_status']['favorite_count']\n",
    "            reply_count = data['retweeted_status']['reply_count']\n",
    "            \n",
    "            #check whether there is extension version of that tweet or not        \n",
    "            if (check_var(data['retweeted_status'], 'extended_tweet')) :\n",
    "                Text = data['retweeted_status']['extended_tweet']['full_text']\n",
    "                for t in data['retweeted_status']['extended_tweet']['entities']['hashtags'] :\n",
    "                    hashtag.append(t['text'])                \n",
    "            else :\n",
    "                Text = data['retweeted_status']['text']\n",
    "                for t in data['retweeted_status']['entities']['hashtags'] :\n",
    "                    hashtag.append(t['text'])\n",
    "                    \n",
    "            #check whether it is retweet of quoted tweet or not\n",
    "            if (check_var(data['retweeted_status'], 'quoted_status')) :\n",
    "                \n",
    "                #check whether there is extension version of the original tweet or not \n",
    "                if (check_var(data['retweeted_status']['quoted_status'], 'extended_tweet')) :\n",
    "                    Text = Text + ' || ' + data['retweeted_status']['quoted_status']['extended_tweet']['full_text']\n",
    "                    for t in data['retweeted_status']['quoted_status']['extended_tweet']['entities']['hashtags'] :\n",
    "                        hashtag.append(t['text'])                \n",
    "                else :\n",
    "                    Text = Text + ' || ' + data['retweeted_status']['quoted_status']['text']\n",
    "                    for t in data['retweeted_status']['quoted_status']['entities']['hashtags'] :\n",
    "                        hashtag.append(t['text'])               \n",
    "        \n",
    "        #case 2: check whether it is a quote tweet data or not\n",
    "        elif (check_var(data, 'quoted_status')) :\n",
    "            Created_at = pd.to_datetime(data['created_at']).strftime('%B %d, %Y, %r')\n",
    "            UserID = data['user']['id']\n",
    "            ID = data['id']\n",
    "            retweet_count = data['retweet_count']\n",
    "            favorite_count = data['favorite_count']\n",
    "            reply_count = data['reply_count']\n",
    "            \n",
    "            #check whether there is extension version of that quote tweet or not \n",
    "            if(check_var(data, 'extended_tweet')) :\n",
    "                Text = data['extended_tweet']['full_text'] + ' || ' \n",
    "            else:\n",
    "                Text = data['text'] + ' || '\n",
    "            \n",
    "            for t in data['entities']['hashtags'] :\n",
    "                hashtag.append(t['text'])\n",
    "            \n",
    "            #check whether there is extension version of the originl tweet or not \n",
    "            if (check_var(data['quoted_status'], 'extended_tweet')) :\n",
    "                Text = Text + data['quoted_status']['extended_tweet']['full_text']\n",
    "                for t in data['quoted_status']['extended_tweet']['entities']['hashtags'] :\n",
    "                    hashtag.append(t['text'])                \n",
    "            else:\n",
    "                Text = Text + data['quoted_status']['text']\n",
    "                for t in data['quoted_status']['entities']['hashtags'] :\n",
    "                    hashtag.append(t['text'])\n",
    "        \n",
    "        #if it does not belong to case 1 and case 2, it is an ordinary tweet data\n",
    "        else :\n",
    "            Created_at = pd.to_datetime(data['created_at']).strftime('%B %d, %Y, %r')\n",
    "            UserID = data['user']['id']\n",
    "            ID = data['id']\n",
    "            retweet_count = data['retweet_count']\n",
    "            favorite_count = data['favorite_count']\n",
    "            reply_count = data['reply_count']\n",
    "            \n",
    "            #check whether there is extension version of that tweet or not  \n",
    "            if(check_var(data, 'extended_tweet')) :\n",
    "                Text = data['extended_tweet']['full_text']\n",
    "            else :\n",
    "                Text = data['text']\n",
    "                \n",
    "            for t in data['entities']['hashtags'] :\n",
    "                hashtag.append(t['text'])\n",
    "        \n",
    "        tw = {'id' : ID,\n",
    "              'user_id' : UserID,\n",
    "              'created_at' : Created_at,\n",
    "              'text' : Text,\n",
    "              'retweet_count' : retweet_count,\n",
    "              'favorite_count' : favorite_count,\n",
    "              'reply_count' : reply_count,\n",
    "              'hashtags': hashtag,\n",
    "              'isenglish' : iseng\n",
    "             }\n",
    "        \n",
    "        #if the data is already in our database, we update it \n",
    "        if (tweet.count_documents({'id' : tw['id']}) > 0) :\n",
    "            db.tweet.update_one({'id' : tw['id']},\n",
    "                                {'$set' : {'retweet_count' : tw['retweet_count'],\n",
    "                                           'favorite_count' : tw['favorite_count'],\n",
    "                                           'reply_count' : tw['reply_count']}})\n",
    "        #if it is not, we insert it    \n",
    "        else :\n",
    "            tweet.insert_one(tw)\n",
    "            \n",
    "\n",
    "tweet.create_index([ ('id', 1) ])"
   ]
  },
  {
   "cell_type": "code",
   "execution_count": 18,
   "metadata": {},
   "outputs": [
    {
     "data": {
      "text/html": [
       "<div>\n",
       "<style scoped>\n",
       "    .dataframe tbody tr th:only-of-type {\n",
       "        vertical-align: middle;\n",
       "    }\n",
       "\n",
       "    .dataframe tbody tr th {\n",
       "        vertical-align: top;\n",
       "    }\n",
       "\n",
       "    .dataframe thead th {\n",
       "        text-align: right;\n",
       "    }\n",
       "</style>\n",
       "<table border=\"1\" class=\"dataframe\">\n",
       "  <thead>\n",
       "    <tr style=\"text-align: right;\">\n",
       "      <th></th>\n",
       "      <th>_id</th>\n",
       "      <th>id</th>\n",
       "      <th>user_id</th>\n",
       "      <th>created_at</th>\n",
       "      <th>text</th>\n",
       "      <th>retweet_count</th>\n",
       "      <th>favorite_count</th>\n",
       "      <th>reply_count</th>\n",
       "      <th>hashtags</th>\n",
       "      <th>isenglish</th>\n",
       "    </tr>\n",
       "  </thead>\n",
       "  <tbody>\n",
       "    <tr>\n",
       "      <td>0</td>\n",
       "      <td>5ea39aa368c9ac6ee0505721</td>\n",
       "      <td>1249378751349231616</td>\n",
       "      <td>16144221</td>\n",
       "      <td>April 12, 2020, 04:48:01 PM</td>\n",
       "      <td>wishing death on people is weirdo behavior. ||...</td>\n",
       "      <td>24</td>\n",
       "      <td>50</td>\n",
       "      <td>1</td>\n",
       "      <td>[]</td>\n",
       "      <td>True</td>\n",
       "    </tr>\n",
       "    <tr>\n",
       "      <td>1</td>\n",
       "      <td>5ea39aa368c9ac6ee0505722</td>\n",
       "      <td>1249397541596286979</td>\n",
       "      <td>1087735689091928064</td>\n",
       "      <td>April 12, 2020, 06:02:41 PM</td>\n",
       "      <td>In Turkey, there are 300 thousand prisoners an...</td>\n",
       "      <td>23</td>\n",
       "      <td>10</td>\n",
       "      <td>1</td>\n",
       "      <td>[COVID19InTurkeysPrisons]</td>\n",
       "      <td>True</td>\n",
       "    </tr>\n",
       "    <tr>\n",
       "      <td>2</td>\n",
       "      <td>5ea39aa368c9ac6ee0505723</td>\n",
       "      <td>1249326224964345857</td>\n",
       "      <td>268218622</td>\n",
       "      <td>April 12, 2020, 01:19:18 PM</td>\n",
       "      <td>Thank You Sir !!\\nReally thankful for encourag...</td>\n",
       "      <td>18</td>\n",
       "      <td>24</td>\n",
       "      <td>0</td>\n",
       "      <td>[BSNL]</td>\n",
       "      <td>True</td>\n",
       "    </tr>\n",
       "    <tr>\n",
       "      <td>3</td>\n",
       "      <td>5ea39aa368c9ac6ee0505724</td>\n",
       "      <td>1249403114614075400</td>\n",
       "      <td>1193535233242664960</td>\n",
       "      <td>April 12, 2020, 06:24:49 PM</td>\n",
       "      <td>Turkey is so stubborn to change their mind, th...</td>\n",
       "      <td>26</td>\n",
       "      <td>13</td>\n",
       "      <td>0</td>\n",
       "      <td>[COVID19InTurkeysPrisons]</td>\n",
       "      <td>True</td>\n",
       "    </tr>\n",
       "    <tr>\n",
       "      <td>4</td>\n",
       "      <td>5ea39aa368c9ac6ee0505725</td>\n",
       "      <td>1249316363681910784</td>\n",
       "      <td>14135350</td>\n",
       "      <td>April 12, 2020, 12:40:06 PM</td>\n",
       "      <td>This image.\\nThis quote.\\n\\n“One of the reason...</td>\n",
       "      <td>3319</td>\n",
       "      <td>6875</td>\n",
       "      <td>230</td>\n",
       "      <td>[]</td>\n",
       "      <td>True</td>\n",
       "    </tr>\n",
       "    <tr>\n",
       "      <td>5</td>\n",
       "      <td>5ea39aa368c9ac6ee0505726</td>\n",
       "      <td>1249403770360016896</td>\n",
       "      <td>988174833849634816</td>\n",
       "      <td>April 12, 2020, 06:27:26 PM</td>\n",
       "      <td>SERÁ APENAS COINCIDÊNCIA?\\n\\nApós escudo do Re...</td>\n",
       "      <td>5</td>\n",
       "      <td>7</td>\n",
       "      <td>0</td>\n",
       "      <td>[]</td>\n",
       "      <td>False</td>\n",
       "    </tr>\n",
       "  </tbody>\n",
       "</table>\n",
       "</div>"
      ],
      "text/plain": [
       "                        _id                   id              user_id  \\\n",
       "0  5ea39aa368c9ac6ee0505721  1249378751349231616             16144221   \n",
       "1  5ea39aa368c9ac6ee0505722  1249397541596286979  1087735689091928064   \n",
       "2  5ea39aa368c9ac6ee0505723  1249326224964345857            268218622   \n",
       "3  5ea39aa368c9ac6ee0505724  1249403114614075400  1193535233242664960   \n",
       "4  5ea39aa368c9ac6ee0505725  1249316363681910784             14135350   \n",
       "5  5ea39aa368c9ac6ee0505726  1249403770360016896   988174833849634816   \n",
       "\n",
       "                    created_at  \\\n",
       "0  April 12, 2020, 04:48:01 PM   \n",
       "1  April 12, 2020, 06:02:41 PM   \n",
       "2  April 12, 2020, 01:19:18 PM   \n",
       "3  April 12, 2020, 06:24:49 PM   \n",
       "4  April 12, 2020, 12:40:06 PM   \n",
       "5  April 12, 2020, 06:27:26 PM   \n",
       "\n",
       "                                                text  retweet_count  \\\n",
       "0  wishing death on people is weirdo behavior. ||...             24   \n",
       "1  In Turkey, there are 300 thousand prisoners an...             23   \n",
       "2  Thank You Sir !!\\nReally thankful for encourag...             18   \n",
       "3  Turkey is so stubborn to change their mind, th...             26   \n",
       "4  This image.\\nThis quote.\\n\\n“One of the reason...           3319   \n",
       "5  SERÁ APENAS COINCIDÊNCIA?\\n\\nApós escudo do Re...              5   \n",
       "\n",
       "   favorite_count  reply_count                   hashtags  isenglish  \n",
       "0              50            1                         []       True  \n",
       "1              10            1  [COVID19InTurkeysPrisons]       True  \n",
       "2              24            0                     [BSNL]       True  \n",
       "3              13            0  [COVID19InTurkeysPrisons]       True  \n",
       "4            6875          230                         []       True  \n",
       "5               7            0                         []      False  "
      ]
     },
     "execution_count": 18,
     "metadata": {},
     "output_type": "execute_result"
    }
   ],
   "source": [
    "pd.DataFrame(tweet.find()).head(6)"
   ]
  },
  {
   "cell_type": "markdown",
   "metadata": {},
   "source": [
    "\n",
    "\n",
    "\n",
    "\n",
    "# II. User Data Cleaning\n",
    "\n",
    "\n",
    "\n"
   ]
  },
  {
   "cell_type": "code",
   "execution_count": 24,
   "metadata": {},
   "outputs": [],
   "source": [
    "## User Table"
   ]
  },
  {
   "cell_type": "code",
   "execution_count": 8,
   "metadata": {},
   "outputs": [],
   "source": [
    "import pandas as pd\n",
    "import psycopg2\n",
    "import json\n"
   ]
  },
  {
   "cell_type": "code",
   "execution_count": 25,
   "metadata": {
    "collapsed": true
   },
   "outputs": [
    {
     "ename": "DuplicateDatabase",
     "evalue": "database \"twitter_users\" already exists\n",
     "output_type": "error",
     "traceback": [
      "\u001b[1;31m---------------------------------------------------------------------------\u001b[0m",
      "\u001b[1;31mDuplicateDatabase\u001b[0m                         Traceback (most recent call last)",
      "\u001b[1;32m<ipython-input-25-a57715c3643b>\u001b[0m in \u001b[0;36m<module>\u001b[1;34m\u001b[0m\n\u001b[0;32m      3\u001b[0m \u001b[0mconn\u001b[0m\u001b[1;33m.\u001b[0m\u001b[0mset_session\u001b[0m\u001b[1;33m(\u001b[0m\u001b[0mautocommit\u001b[0m \u001b[1;33m=\u001b[0m \u001b[1;32mTrue\u001b[0m\u001b[1;33m)\u001b[0m\u001b[1;33m\u001b[0m\u001b[1;33m\u001b[0m\u001b[0m\n\u001b[0;32m      4\u001b[0m \u001b[0mcur\u001b[0m \u001b[1;33m=\u001b[0m \u001b[0mconn\u001b[0m\u001b[1;33m.\u001b[0m\u001b[0mcursor\u001b[0m\u001b[1;33m(\u001b[0m\u001b[1;33m)\u001b[0m\u001b[1;33m\u001b[0m\u001b[1;33m\u001b[0m\u001b[0m\n\u001b[1;32m----> 5\u001b[1;33m \u001b[0mcur\u001b[0m\u001b[1;33m.\u001b[0m\u001b[0mexecute\u001b[0m\u001b[1;33m(\u001b[0m\u001b[1;34m\"CREATE DATABASE twitter_users\"\u001b[0m \u001b[1;33m)\u001b[0m\u001b[1;33m\u001b[0m\u001b[1;33m\u001b[0m\u001b[0m\n\u001b[0m\u001b[0;32m      6\u001b[0m \u001b[0mconn\u001b[0m\u001b[1;33m.\u001b[0m\u001b[0mcommit\u001b[0m\u001b[1;33m(\u001b[0m\u001b[1;33m)\u001b[0m\u001b[1;33m\u001b[0m\u001b[1;33m\u001b[0m\u001b[0m\n\u001b[0;32m      7\u001b[0m \u001b[0mcur\u001b[0m\u001b[1;33m.\u001b[0m\u001b[0mclose\u001b[0m\u001b[1;33m(\u001b[0m\u001b[1;33m)\u001b[0m\u001b[1;33m\u001b[0m\u001b[1;33m\u001b[0m\u001b[0m\n",
      "\u001b[1;31mDuplicateDatabase\u001b[0m: database \"twitter_users\" already exists\n"
     ]
    }
   ],
   "source": [
    "##Creating the database\n",
    "conn = psycopg2.connect(\"dbname=postgres port=5432 user=postgres password=password\")\n",
    "conn.set_session(autocommit = True)\n",
    "cur = conn.cursor()\n",
    "cur.execute(\"CREATE DATABASE twitter_users\" )\n",
    "conn.commit()\n",
    "cur.close()\n",
    "conn.close()"
   ]
  },
  {
   "cell_type": "code",
   "execution_count": 26,
   "metadata": {},
   "outputs": [],
   "source": [
    "#Creating the table\n",
    "conn = psycopg2.connect(\"dbname=twitter_users port=5432 user=postgres password=password\")\n",
    "cur = conn.cursor()\n",
    "cur.execute(\"CREATE TABLE IF NOT EXISTS users_data( user_id varchar(50) PRIMARY KEY, name varchar(255), user_name varchar(255), verified_status boolean,followers_count integer,friends_count integer,statuses_count integer,user_location varchar(500),favourites_count integer);\" )\n",
    "conn.commit()\n",
    "cur.close()\n",
    "conn.close()"
   ]
  },
  {
   "cell_type": "code",
   "execution_count": 27,
   "metadata": {},
   "outputs": [],
   "source": [
    "def check_var(data,x):\n",
    "    try:\n",
    "        data[x]\n",
    "        return True\n",
    "    except:\n",
    "        return False"
   ]
  },
  {
   "cell_type": "code",
   "execution_count": null,
   "metadata": {},
   "outputs": [],
   "source": [
    "#This function takes the the variable inputs and stores it into a PostgreSQL database\n",
    "def store_data(user_id, name, user_name, verified_status, followers_count, friends_count, statuses_count, user_location, favourites_count):\n",
    "    conn = psycopg2.connect(\"dbname=twitter_users port=5432 user=postgres password=password\")\n",
    "    cur = conn.cursor()\n",
    "    insert_query = \"INSERT INTO users_data (user_id, name, user_name, verified_status, followers_count, friends_count, statuses_count, user_location, favourites_count) VALUES (%s, %s, %s, %s, %s, %s, %s, %s, %s) ON CONFLICT (user_id) DO UPDATE SET verified_status=EXCLUDED.verified_status, followers_count=EXCLUDED.followers_count, friends_count=EXCLUDED.friends_count, statuses_count=EXCLUDED.statuses_count, user_location=EXCLUDED.user_location, favourites_count=EXCLUDED.favourites_count\"\n",
    "    cur.execute(insert_query, (user_id, name, user_name, verified_status, followers_count, friends_count, statuses_count, user_location,favourites_count))\n",
    "    conn.commit()\n",
    "    cur.close()\n",
    "    conn.close()\n",
    "    \n",
    "    \n",
    "# Decoding the JSON file\n",
    "with open(file, 'r', encoding = 'utf8') as f1:\n",
    "    for line in f1:\n",
    "        \n",
    "        try:\n",
    "            data = json.loads(line)\n",
    "        except:\n",
    "            continue\n",
    "        \n",
    "        \n",
    "        if (check_var(data, 'retweeted_status')):\n",
    "            \n",
    "            user_id = data['retweeted_status']['user']['id_str']\n",
    "            name = data['retweeted_status']['user']['name']\n",
    "            user_name = data['retweeted_status']['user']['screen_name']\n",
    "            verified_status = data['retweeted_status']['user']['verified']\n",
    "            followers_count = data['retweeted_status']['user']['followers_count']\n",
    "            friends_count = data['retweeted_status']['user']['friends_count']\n",
    "            statuses_count = data['retweeted_status']['user']['statuses_count']\n",
    "            user_location = data['retweeted_status']['user']['location']\n",
    "            favourites_count= data['retweeted_status']['user']['favourites_count']\n",
    "            \n",
    "           \n",
    "        else :\n",
    "            user_id = data['user']['id_str']\n",
    "            name = data['user']['name']\n",
    "            user_name = data['user']['screen_name']\n",
    "            verified_status = data['user']['verified']\n",
    "            followers_count = data['user']['followers_count']\n",
    "            friends_count = data['user']['friends_count']\n",
    "            statuses_count = data['user']['statuses_count']\n",
    "            user_location = data['user']['location']\n",
    "            favourites_count= data['user']['favourites_count']\n",
    "            \n",
    "               \n",
    "        #insert the data into the PostgreSQL database\n",
    "        store_data(user_id, name, user_name, verified_status, followers_count, friends_count, statuses_count, user_location, favourites_count)"
   ]
  },
  {
   "cell_type": "code",
   "execution_count": 23,
   "metadata": {},
   "outputs": [],
   "source": [
    "conn = psycopg2.connect(\"dbname=twitter_users port=5432 user=postgres password=password\")\n",
    "cur = conn.cursor()\n",
    "\n",
    "\n",
    "# A function that takes in a PostgreSQL query and outputs a pandas database \n",
    "def create_pandas_table(sql_query, database = conn):\n",
    "    table = pd.read_sql_query(sql_query, database)\n",
    "    return table"
   ]
  },
  {
   "cell_type": "code",
   "execution_count": 27,
   "metadata": {},
   "outputs": [
    {
     "data": {
      "text/html": [
       "<div>\n",
       "<style scoped>\n",
       "    .dataframe tbody tr th:only-of-type {\n",
       "        vertical-align: middle;\n",
       "    }\n",
       "\n",
       "    .dataframe tbody tr th {\n",
       "        vertical-align: top;\n",
       "    }\n",
       "\n",
       "    .dataframe thead th {\n",
       "        text-align: right;\n",
       "    }\n",
       "</style>\n",
       "<table border=\"1\" class=\"dataframe\">\n",
       "  <thead>\n",
       "    <tr style=\"text-align: right;\">\n",
       "      <th></th>\n",
       "      <th>user_id</th>\n",
       "      <th>name</th>\n",
       "      <th>user_name</th>\n",
       "      <th>verified_status</th>\n",
       "      <th>followers_count</th>\n",
       "      <th>friends_count</th>\n",
       "      <th>statuses_count</th>\n",
       "      <th>user_location</th>\n",
       "      <th>favourites_count</th>\n",
       "    </tr>\n",
       "  </thead>\n",
       "  <tbody>\n",
       "    <tr>\n",
       "      <td>0</td>\n",
       "      <td>16144221</td>\n",
       "      <td>NUFF</td>\n",
       "      <td>nuffsaidny</td>\n",
       "      <td>False</td>\n",
       "      <td>17112</td>\n",
       "      <td>1515</td>\n",
       "      <td>2599</td>\n",
       "      <td>None</td>\n",
       "      <td>15790</td>\n",
       "    </tr>\n",
       "    <tr>\n",
       "      <td>1</td>\n",
       "      <td>268218622</td>\n",
       "      <td>Umesh Agrawal</td>\n",
       "      <td>umesh_agr</td>\n",
       "      <td>False</td>\n",
       "      <td>288</td>\n",
       "      <td>322</td>\n",
       "      <td>258</td>\n",
       "      <td>None</td>\n",
       "      <td>127</td>\n",
       "    </tr>\n",
       "    <tr>\n",
       "      <td>2</td>\n",
       "      <td>1001580696077467649</td>\n",
       "      <td>#DerApotheker</td>\n",
       "      <td>ApothekerDer</td>\n",
       "      <td>False</td>\n",
       "      <td>22394</td>\n",
       "      <td>749</td>\n",
       "      <td>16221</td>\n",
       "      <td>None</td>\n",
       "      <td>39417</td>\n",
       "    </tr>\n",
       "    <tr>\n",
       "      <td>3</td>\n",
       "      <td>1171484224244744198</td>\n",
       "      <td>Elfpunkt</td>\n",
       "      <td>meElfpunkt</td>\n",
       "      <td>False</td>\n",
       "      <td>3</td>\n",
       "      <td>53</td>\n",
       "      <td>60</td>\n",
       "      <td>None</td>\n",
       "      <td>72</td>\n",
       "    </tr>\n",
       "    <tr>\n",
       "      <td>4</td>\n",
       "      <td>3917836273</td>\n",
       "      <td>aniel-ani 🇮🇳</td>\n",
       "      <td>ani_royal007</td>\n",
       "      <td>False</td>\n",
       "      <td>15584</td>\n",
       "      <td>10763</td>\n",
       "      <td>217651</td>\n",
       "      <td>India</td>\n",
       "      <td>50435</td>\n",
       "    </tr>\n",
       "    <tr>\n",
       "      <td>5</td>\n",
       "      <td>2950846039</td>\n",
       "      <td>Rizzu</td>\n",
       "      <td>riaz_nov</td>\n",
       "      <td>False</td>\n",
       "      <td>4</td>\n",
       "      <td>63</td>\n",
       "      <td>1107</td>\n",
       "      <td>None</td>\n",
       "      <td>903</td>\n",
       "    </tr>\n",
       "  </tbody>\n",
       "</table>\n",
       "</div>"
      ],
      "text/plain": [
       "               user_id           name     user_name  verified_status  \\\n",
       "0             16144221           NUFF    nuffsaidny            False   \n",
       "1            268218622  Umesh Agrawal     umesh_agr            False   \n",
       "2  1001580696077467649  #DerApotheker  ApothekerDer            False   \n",
       "3  1171484224244744198       Elfpunkt    meElfpunkt            False   \n",
       "4           3917836273   aniel-ani 🇮🇳  ani_royal007            False   \n",
       "5           2950846039          Rizzu      riaz_nov            False   \n",
       "\n",
       "   followers_count  friends_count  statuses_count user_location  \\\n",
       "0            17112           1515            2599          None   \n",
       "1              288            322             258          None   \n",
       "2            22394            749           16221          None   \n",
       "3                3             53              60          None   \n",
       "4            15584          10763          217651         India   \n",
       "5                4             63            1107          None   \n",
       "\n",
       "   favourites_count  \n",
       "0             15790  \n",
       "1               127  \n",
       "2             39417  \n",
       "3                72  \n",
       "4             50435  \n",
       "5               903  "
      ]
     },
     "execution_count": 27,
     "metadata": {},
     "output_type": "execute_result"
    }
   ],
   "source": [
    "create_pandas_table(\"SELECT * FROM users_data \").head(6)"
   ]
  },
  {
   "cell_type": "markdown",
   "metadata": {},
   "source": [
    "\n",
    "\n",
    "\n",
    "\n",
    "# III. Searching Application\n",
    "\n",
    "\n",
    "\n"
   ]
  },
  {
   "cell_type": "code",
   "execution_count": 38,
   "metadata": {},
   "outputs": [],
   "source": [
    "## Install PySpark\n",
    "#!curl -O https://d3kbcqa49mib13.cloudfront.net/spark-2.2.0-bin-hadoop2.7.tgz\n",
    "#!tar -xvf spark-2.2.0-bin-hadoop2.7.tgz"
   ]
  },
  {
   "cell_type": "code",
   "execution_count": 39,
   "metadata": {},
   "outputs": [],
   "source": [
    "#Configure your python environment by uncommenting the line below.\n",
    "#!pip install findspark"
   ]
  },
  {
   "cell_type": "code",
   "execution_count": 19,
   "metadata": {
    "collapsed": true
   },
   "outputs": [
    {
     "ename": "ModuleNotFoundError",
     "evalue": "No module named 'findspark'",
     "output_type": "error",
     "traceback": [
      "\u001b[1;31m---------------------------------------------------------------------------\u001b[0m",
      "\u001b[1;31mModuleNotFoundError\u001b[0m                       Traceback (most recent call last)",
      "\u001b[1;32m<ipython-input-19-fb7e842800b1>\u001b[0m in \u001b[0;36m<module>\u001b[1;34m\u001b[0m\n\u001b[0;32m      1\u001b[0m \u001b[1;31m## Launch PySpark\u001b[0m\u001b[1;33m\u001b[0m\u001b[1;33m\u001b[0m\u001b[1;33m\u001b[0m\u001b[0m\n\u001b[0;32m      2\u001b[0m \u001b[1;32mimport\u001b[0m \u001b[0mos\u001b[0m\u001b[1;33m\u001b[0m\u001b[1;33m\u001b[0m\u001b[0m\n\u001b[1;32m----> 3\u001b[1;33m \u001b[1;32mimport\u001b[0m \u001b[0mfindspark\u001b[0m\u001b[1;33m\u001b[0m\u001b[1;33m\u001b[0m\u001b[0m\n\u001b[0m\u001b[0;32m      4\u001b[0m \u001b[0mos\u001b[0m\u001b[1;33m.\u001b[0m\u001b[0menviron\u001b[0m\u001b[1;33m[\u001b[0m\u001b[1;34m\"PYSPARK_PYTHON\"\u001b[0m\u001b[1;33m]\u001b[0m \u001b[1;33m=\u001b[0m \u001b[1;34m\"python3\"\u001b[0m\u001b[1;33m\u001b[0m\u001b[1;33m\u001b[0m\u001b[0m\n\u001b[0;32m      5\u001b[0m \u001b[0mfindspark\u001b[0m\u001b[1;33m.\u001b[0m\u001b[0minit\u001b[0m\u001b[1;33m(\u001b[0m\u001b[1;34m\"spark-2.2.0-bin-hadoop2.7\"\u001b[0m\u001b[1;33m,\u001b[0m\u001b[1;33m)\u001b[0m\u001b[1;33m\u001b[0m\u001b[1;33m\u001b[0m\u001b[0m\n",
      "\u001b[1;31mModuleNotFoundError\u001b[0m: No module named 'findspark'"
     ]
    }
   ],
   "source": [
    "## Launch PySpark\n",
    "import os\n",
    "import findspark\n",
    "os.environ[\"PYSPARK_PYTHON\"] = \"python3\"\n",
    "findspark.init(\"spark-2.2.0-bin-hadoop2.7\",)"
   ]
  },
  {
   "cell_type": "markdown",
   "metadata": {},
   "source": [
    "Import components of SparkSQL"
   ]
  },
  {
   "cell_type": "code",
   "execution_count": 41,
   "metadata": {},
   "outputs": [],
   "source": [
    "from pyspark.sql import SparkSession, Column, Row, functions as F"
   ]
  },
  {
   "cell_type": "markdown",
   "metadata": {},
   "source": [
    "Initialize the SparkSQL session which contains a basic Spark Context. This may take a few moments to launch the cluster of (typically 4 to 8 python jobs in the background). Note that you are running Spark locally (.master)."
   ]
  },
  {
   "cell_type": "code",
   "execution_count": 42,
   "metadata": {},
   "outputs": [],
   "source": [
    "spark = (\n",
    "    SparkSession.builder\n",
    "        .master(\"local[*]\")\n",
    "        .appName(\"SparkLecture694Example\")\n",
    "        .getOrCreate()\n",
    ")\n",
    "sc = spark.sparkContext"
   ]
  },
  {
   "cell_type": "code",
   "execution_count": null,
   "metadata": {},
   "outputs": [],
   "source": []
  },
  {
   "cell_type": "markdown",
   "metadata": {},
   "source": [
    "Implement 1"
   ]
  },
  {
   "cell_type": "code",
   "execution_count": null,
   "metadata": {},
   "outputs": [],
   "source": [
    "# With the Tweet table, a user can get such as the most popular original tweet ranked by the retweets count; \n",
    "# or the most popular hashtag ranked by aggregating the lists of hashtags among all tweets we collect"
   ]
  },
  {
   "cell_type": "code",
   "execution_count": null,
   "metadata": {},
   "outputs": [],
   "source": []
  },
  {
   "cell_type": "code",
   "execution_count": null,
   "metadata": {},
   "outputs": [],
   "source": []
  },
  {
   "cell_type": "markdown",
   "metadata": {},
   "source": [
    "Implement 2"
   ]
  },
  {
   "cell_type": "code",
   "execution_count": null,
   "metadata": {},
   "outputs": [],
   "source": [
    "# With the user table, a user can get such as the most active user ranked by tweets count; \n",
    "# or the most active location ranked by tweets count."
   ]
  },
  {
   "cell_type": "code",
   "execution_count": null,
   "metadata": {},
   "outputs": [],
   "source": []
  },
  {
   "cell_type": "code",
   "execution_count": null,
   "metadata": {},
   "outputs": [],
   "source": []
  },
  {
   "cell_type": "code",
   "execution_count": 37,
   "metadata": {},
   "outputs": [],
   "source": [
    "# join the tweet table and user table"
   ]
  },
  {
   "cell_type": "code",
   "execution_count": null,
   "metadata": {},
   "outputs": [],
   "source": []
  },
  {
   "cell_type": "code",
   "execution_count": null,
   "metadata": {},
   "outputs": [],
   "source": []
  },
  {
   "cell_type": "markdown",
   "metadata": {},
   "source": [
    "Implement 3"
   ]
  },
  {
   "cell_type": "code",
   "execution_count": null,
   "metadata": {},
   "outputs": [],
   "source": [
    "# When a user searches for a keyword or hashtag in the Tweet table, the results will show all the original tweets \n",
    "# that contain it. We can rank it by number of retweets, number of favorites, number of replies, or sum of them to \n",
    "# find the most popular tweet. "
   ]
  },
  {
   "cell_type": "code",
   "execution_count": null,
   "metadata": {},
   "outputs": [],
   "source": []
  },
  {
   "cell_type": "code",
   "execution_count": null,
   "metadata": {},
   "outputs": [],
   "source": []
  },
  {
   "cell_type": "markdown",
   "metadata": {},
   "source": [
    "Implement 4"
   ]
  },
  {
   "cell_type": "code",
   "execution_count": null,
   "metadata": {},
   "outputs": [],
   "source": [
    "# We can also link the results with the user table to find out the corresponding users \n",
    "# who tweet them and rank the results by the number of followers, number of friends, number of statuses, \n",
    "# number of favorites or combination of them."
   ]
  },
  {
   "cell_type": "code",
   "execution_count": null,
   "metadata": {},
   "outputs": [],
   "source": []
  },
  {
   "cell_type": "code",
   "execution_count": null,
   "metadata": {},
   "outputs": [],
   "source": []
  },
  {
   "cell_type": "markdown",
   "metadata": {},
   "source": [
    "Implement 5"
   ]
  },
  {
   "cell_type": "code",
   "execution_count": null,
   "metadata": {},
   "outputs": [],
   "source": [
    "# We also save the location information of users in the user table, even though it is self-reported and users \n",
    "# can choose whether they want to register or not. We still plan to set the related search in our application. \n",
    "\n",
    "# A user can search for the most preferred location ranked by amount of twitter users. \n",
    "# When a user searches a hashtag, the results can show the most active location related to the hashtag."
   ]
  },
  {
   "cell_type": "code",
   "execution_count": null,
   "metadata": {},
   "outputs": [],
   "source": []
  },
  {
   "cell_type": "code",
   "execution_count": null,
   "metadata": {},
   "outputs": [],
   "source": []
  }
 ],
 "metadata": {
  "kernelspec": {
   "display_name": "Python 3",
   "language": "python",
   "name": "python3"
  },
  "language_info": {
   "codemirror_mode": {
    "name": "ipython",
    "version": 3
   },
   "file_extension": ".py",
   "mimetype": "text/x-python",
   "name": "python",
   "nbconvert_exporter": "python",
   "pygments_lexer": "ipython3",
   "version": "3.7.4"
  }
 },
 "nbformat": 4,
 "nbformat_minor": 2
}
